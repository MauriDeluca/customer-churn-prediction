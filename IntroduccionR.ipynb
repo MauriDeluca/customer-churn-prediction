{
  "nbformat": 4,
  "nbformat_minor": 0,
  "metadata": {
    "kernelspec": {
      "display_name": "R",
      "language": "R",
      "name": "ir"
    },
    "language_info": {
      "codemirror_mode": "r",
      "file_extension": ".r",
      "mimetype": "text/x-r-source",
      "name": "R",
      "pygments_lexer": "r",
      "version": "3.3.1"
    },
    "colab": {
      "name": "IntroduccionR.ipynb",
      "provenance": [],
      "include_colab_link": true
    }
  },
  "cells": [
    {
      "cell_type": "markdown",
      "metadata": {
        "id": "view-in-github",
        "colab_type": "text"
      },
      "source": [
        "<a href=\"https://colab.research.google.com/github/MauriDeluca/customer-churn-prediction/blob/master/IntroduccionR.ipynb\" target=\"_parent\"><img src=\"https://colab.research.google.com/assets/colab-badge.svg\" alt=\"Open In Colab\"/></a>"
      ]
    },
    {
      "cell_type": "markdown",
      "metadata": {
        "id": "_YmeoWAXG4An",
        "colab_type": "text"
      },
      "source": [
        "\n",
        "## **Práctica de Introducción a R**\n",
        "---\n",
        "\n"
      ]
    },
    {
      "cell_type": "code",
      "metadata": {
        "id": "jVxaNuK8Ecv_",
        "colab_type": "code",
        "colab": {}
      },
      "source": [
        "import pandas as dndas"
      ],
      "execution_count": null,
      "outputs": []
    },
    {
      "cell_type": "markdown",
      "metadata": {
        "id": "DNIfqR9Tc7Ug",
        "colab_type": "text"
      },
      "source": [
        "El objetivo de esta práctica es:\n",
        "\n",
        "\n",
        "*   Familiarizarnos con este entorno (*Google Colaboratory*)\n",
        "*   Repasar conceptos vistos en la primera sesión\n",
        "\n"
      ]
    },
    {
      "cell_type": "markdown",
      "metadata": {
        "colab_type": "text",
        "id": "wE8Y7aVWHiGT"
      },
      "source": [
        "**Ejercicio 1:** \n",
        "\n",
        "La base de datos `iris` es muy conocida tanto en estadística como en machine learning. Primero debemos cargarla:\n",
        "\n",
        "\n",
        "Se pide:"
      ]
    },
    {
      "cell_type": "code",
      "metadata": {
        "id": "828OxajNdeLG",
        "colab_type": "code",
        "colab": {}
      },
      "source": [
        "data(iris)"
      ],
      "execution_count": null,
      "outputs": []
    },
    {
      "cell_type": "markdown",
      "metadata": {
        "id": "1-KxjQ5_dhtg",
        "colab_type": "text"
      },
      "source": [
        "a) ¿Cuál es la dimensión?\n",
        "\n",
        "b) ¿Qué nombres tienen las variables?\n",
        "\n",
        "c) ¿Cuál es la media de las variables numéricas?\n",
        "\n",
        "d) ¿Cuál es el valor mínimo que toma `Sepal.Length` cuando `Species` es igual a *setosa*?\n",
        "\n",
        "e) ¿Qué valores toman las otras variables en el caso considerado en el apartado anterior?"
      ]
    },
    {
      "cell_type": "markdown",
      "metadata": {
        "id": "O9NCNlQWeUrF",
        "colab_type": "text"
      },
      "source": [
        "**Ejercicio 2:**\n",
        "\n",
        "Construye una función que, dado un vector, devuelva la varianza muestral y la desviación muestral."
      ]
    }
  ]
}